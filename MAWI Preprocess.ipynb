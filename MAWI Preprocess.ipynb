{
 "cells": [
  {
   "cell_type": "code",
   "execution_count": 1,
   "metadata": {},
   "outputs": [],
   "source": [
    "import json\n",
    "import pandas\n",
    "import numpy\n",
    "import re"
   ]
  },
  {
   "cell_type": "code",
   "execution_count": 2,
   "metadata": {},
   "outputs": [],
   "source": [
    "with open('output.txt') as f:\n",
    "    file_content = f.read()"
   ]
  },
  {
   "cell_type": "code",
   "execution_count": 3,
   "metadata": {},
   "outputs": [],
   "source": [
    "lines = file_content.split('\\n')"
   ]
  },
  {
   "cell_type": "code",
   "execution_count": 4,
   "metadata": {},
   "outputs": [
    {
     "name": "stdout",
     "output_type": "stream",
     "text": [
      "00:59:59.974915 IP 117.104.234.209.50853 > 203.80.133.159.40014: UDP, length 171\n",
      "00:59:59.974933 IP 74.67.249.149.46974 > 163.29.128.115.465: Flags [S], seq 251008648, win 1024, options [mss 1460], length 0\n"
     ]
    }
   ],
   "source": [
    "print(lines[0])\n",
    "print(lines[1])"
   ]
  },
  {
   "cell_type": "code",
   "execution_count": 6,
   "metadata": {},
   "outputs": [],
   "source": [
    "\n",
    "def split(s):\n",
    "    parts = []\n",
    "    bracket_level = 0\n",
    "    current = []\n",
    "    # trick to remove special-case of trailing chars\n",
    "    for c in (s + \",\"):\n",
    "        if c == \",\" and bracket_level == 0:\n",
    "            parts.append(\"\".join(current))\n",
    "            current = []\n",
    "        else:\n",
    "            if c == \"[\":\n",
    "                bracket_level += 1\n",
    "            elif c == \"]\":\n",
    "                bracket_level -= 1\n",
    "            current.append(c)\n",
    "    return parts"
   ]
  },
  {
   "cell_type": "code",
   "execution_count": 21,
   "metadata": {},
   "outputs": [],
   "source": [
    "UDP = []\n",
    "TCP = []\n",
    "OTHER = []\n",
    "ERRORS = []\n",
    "GENERAL = []\n",
    "\n",
    "for line in lines:\n",
    "    const_split = line.split(' ')\n",
    "    \n",
    "    if len(const_split) < 5:\n",
    "        continue\n",
    "    \n",
    "    entry = {}\n",
    "    entry['ts'] = const_split[0]\n",
    "    entry['ip_type'] = const_split[1]\n",
    "    entry['source_ip'] = 'NA'\n",
    "    entry['source_port'] = 'NA'\n",
    "    entry['dest_ip'] = 'NA'\n",
    "    entry['dest_port'] = 'NA'\n",
    "    \n",
    "    if entry['ip_type'] == 'IP':\n",
    "        if len(const_split[2].split('.')) == 4:\n",
    "            entry['source_ip'] = const_split[2]\n",
    "            entry['source_port'] = 'NA'\n",
    "            \n",
    "        else:\n",
    "            ip_split_source = const_split[2].rsplit('.', 1)\n",
    "            entry['source_ip'] = ip_split_source[0]\n",
    "            entry['source_port'] = ip_split_source[1]\n",
    "            \n",
    "        #Then destination    \n",
    "        if len(const_split[4][:-1].split('.')) == 4:\n",
    "            entry['dest_ip'] = const_split[4][:-1]\n",
    "            entry['dest_port'] = 'NA'\n",
    "            \n",
    "        else:\n",
    "            ip_split_dest = const_split[4][:-1].rsplit('.', 1)\n",
    "            entry['dest_ip'] = ip_split_dest[0]\n",
    "            entry['dest_port'] = ip_split_dest[1]\n",
    "        \n",
    "    else: #IPv6\n",
    "        #Source first\n",
    "        if len(const_split[2].rsplit('.', 1)) == 1:\n",
    "            entry['source_ip'] = const_split[2]\n",
    "            entry['source_port'] = 'NA'\n",
    "        else:\n",
    "            entry['source_ip'] = const_split[2].rsplit('.', 1)[0]\n",
    "            entry['source_port'] = const_split[2].rsplit('.', 1)[1]\n",
    "            \n",
    "        #Then destination\n",
    "        if len(const_split[4][:-1].rsplit('.', 1)) == 1:\n",
    "            entry['dest_ip'] = const_split[4][:-1]\n",
    "            entry['dest_port'] = 'NA'\n",
    "            \n",
    "        else:\n",
    "            ip_split_dest = const_split[4][:-1].rsplit('.', 1)\n",
    "            entry['dest_ip'] = ip_split_dest[0]\n",
    "            entry['dest_port'] = ip_split_dest[1]\n",
    "        \n",
    "    \n",
    "    second_half = const_split[5:]\n",
    "    \n",
    "    if len(second_half) == 0:\n",
    "        continue\n",
    "    \n",
    "    protocol = second_half[0]\n",
    "    \n",
    "    \n",
    "    if protocol == 'UDP,':\n",
    "        protocol = 'UDP'\n",
    "        \n",
    "    if protocol != 'UDP':\n",
    "        protocol = 'UNKNOWN'\n",
    "        \n",
    "        \n",
    "    if second_half[0] == 'Flags':\n",
    "        protocol = 'TCP'\n",
    "        \n",
    "    if second_half[0] == 'ICMP' or second_half[0] == 'ICMP6':\n",
    "        protocol = 'ICMP'\n",
    "        \n",
    "        \n",
    "    entry['protocol'] = protocol\n",
    "    \n",
    "    if protocol == 'UDP':\n",
    "        second_half = second_half[1:]\n",
    "        # Either successful with   length or bad length returned \n",
    "        entry['result'] = 'Success'\n",
    "        entry['expected_length'] = -1\n",
    "        entry['length'] = -1\n",
    "        \n",
    "        if second_half[0] == 'bad':\n",
    "            entry['result'] = 'Failure'\n",
    "            entry['length'] = second_half[2]\n",
    "            entry['expected_length'] = second_half[4]\n",
    "            \n",
    "        else:\n",
    "            entry['length'] = second_half[1]\n",
    "            entry['expected_length'] = second_half[1]\n",
    "            \n",
    "            \n",
    "        UDP.append(entry)\n",
    "        GENERAL.append(entry)\n",
    "        \n",
    "    \n",
    "    elif protocol =='TCP':\n",
    "        ln = \" \"\n",
    "        for token in second_half:\n",
    "            ln += token + \" \"\n",
    "            \n",
    "        kvs = {}\n",
    "        entry['result'] = 'Success'\n",
    "        entry['length'] = -1\n",
    "        entry['expected_length'] = -1\n",
    "    \n",
    "        splits = split(ln)\n",
    "        for kv_pair in splits:\n",
    "            pair = kv_pair.strip().split( ' ', 1)\n",
    "            kvs[pair[0]] = pair[1]\n",
    "            \n",
    "        \n",
    "        if 'length' in kvs:\n",
    "            entry['length'] = kvs['length']\n",
    "            entry['expected_length'] = kvs['length']\n",
    "            \n",
    "        else:\n",
    "            entry['result'] = 'Failure'\n",
    "            \n",
    "            \n",
    "        TCP.append(entry)\n",
    "        GENERAL.append(entry)\n",
    "        \n",
    "    \n",
    "    elif protocol == 'ICMP':\n",
    "        ln = \" \"\n",
    "        for token in second_half:\n",
    "            ln += token + \" \"\n",
    "            \n",
    "        ln = ln.strip()\n",
    "        \n",
    "        em = ln.split(' ',1)[1]\n",
    "        \n",
    "        tokens = em.split(',')\n",
    "        entry['error_message'] = tokens[0].strip()\n",
    "        \n",
    "        for token in tokens[1:]:\n",
    "            kv = token.strip().split(' ',1)\n",
    "            entry[kv[0]] = kv[1]\n",
    "        \n",
    "        \n",
    "        ERRORS.append(entry)\n",
    "        \n",
    "    \n",
    "    else:\n",
    "        ln = \" \"\n",
    "        for token in second_half:\n",
    "            ln += token + \" \"\n",
    "            \n",
    "        ln = ln.strip()\n",
    "        \n",
    "        entry['details'] = ln\n",
    "        \n",
    "        OTHER.append(entry)"
   ]
  },
  {
   "cell_type": "code",
   "execution_count": 8,
   "metadata": {},
   "outputs": [
    {
     "name": "stdout",
     "output_type": "stream",
     "text": [
      "1480282\n"
     ]
    }
   ],
   "source": [
    "print(len(GENERAL))"
   ]
  },
  {
   "cell_type": "code",
   "execution_count": 22,
   "metadata": {},
   "outputs": [],
   "source": [
    "with open('unified.json', 'w+') as f:\n",
    "    f.write(json.dumps(GENERAL[0:200000]))"
   ]
  },
  {
   "cell_type": "code",
   "execution_count": 24,
   "metadata": {},
   "outputs": [],
   "source": [
    "from json_excel_converter import Converter \n",
    "from json_excel_converter.xlsx import Writer\n",
    "conv = Converter()\n",
    "conv.convert(GENERAL[0:200000], Writer(file='/Users/dhruvnandakumar/Desktop/CoE/MAWI_generalized.xlsx'))"
   ]
  },
  {
   "cell_type": "code",
   "execution_count": null,
   "metadata": {},
   "outputs": [],
   "source": []
  }
 ],
 "metadata": {
  "kernelspec": {
   "display_name": "Python 3",
   "language": "python",
   "name": "python3"
  },
  "language_info": {
   "codemirror_mode": {
    "name": "ipython",
    "version": 3
   },
   "file_extension": ".py",
   "mimetype": "text/x-python",
   "name": "python",
   "nbconvert_exporter": "python",
   "pygments_lexer": "ipython3",
   "version": "3.7.9"
  }
 },
 "nbformat": 4,
 "nbformat_minor": 4
}
